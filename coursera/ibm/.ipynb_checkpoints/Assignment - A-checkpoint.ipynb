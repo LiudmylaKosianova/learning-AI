{
 "cells": [
  {
   "cell_type": "markdown",
   "id": "904ecbd6",
   "metadata": {},
   "source": [
    "## A. Build a baseline model\n",
    "\n",
    "Using the Keras library to build a neural network with the following:\n",
    "\n",
    "- One hidden layer of 10 nodes, and a ReLU activation function\n",
    "\n",
    "- Use the adam optimizer and the mean squared error  as the loss function.\n",
    "\n",
    "1. Randomly split the data into a training and test sets by holding 30% of the data for testing. You can use the train_test_split helper function from Scikit-learn.\n",
    "\n",
    "2. Train the model on the training data using 50 epochs.\n",
    "\n",
    "3. Evaluate the model on the test data and compute the mean squared error between the predicted concrete strength and the actual concrete strength. You can use the mean_squared_error function from Scikit-learn.\n",
    "\n",
    "4. Repeat steps 1 - 3, 50 times, i.e., create a list of 50 mean squared errors.\n",
    "\n",
    "5. Report the mean and the standard deviation of the mean squared errors.\n",
    "\n",
    "Submitted my Jupyter Notebook with code and comments.\n"
   ]
  },
  {
   "cell_type": "code",
   "execution_count": null,
   "id": "f28ff8de",
   "metadata": {},
   "outputs": [],
   "source": [
    "import pandas as pd\n",
    "import numpy as np\n",
    "import sklearn as skl\n",
    "import sklearn.model_selection as ms\n",
    "from keras.models import Sequential\n",
    "from keras.layers import Dense"
   ]
  },
  {
   "cell_type": "code",
   "execution_count": null,
   "id": "5dbf13a9",
   "metadata": {},
   "outputs": [],
   "source": [
    "concrete_data = pd.read_csv('https://s3-api.us-geo.objectstorage.softlayer.net/cf-courses-data/CognitiveClass/DL0101EN/labs/data/concrete_data.csv')"
   ]
  },
  {
   "cell_type": "code",
   "execution_count": null,
   "id": "3de09097",
   "metadata": {},
   "outputs": [],
   "source": [
    "def regression_model(n_cols):\n",
    "    model = Sequential()\n",
    "    model.add(Dense(10, activation='relu', input_shape=(n_cols,)))\n",
    "    model.add(Dense(1))\n",
    "    model.compile(optimizer='adam', loss='mean_squared_error')\n",
    "    return model"
   ]
  },
  {
   "cell_type": "code",
   "execution_count": null,
   "id": "f9d8e563",
   "metadata": {},
   "outputs": [],
   "source": [
    "def stlitTrainPredictAndReturnMSE():\n",
    "    concrete_data_columns = concrete_data.columns\n",
    "    \n",
    "    predictors = concrete_data[concrete_data_columns[concrete_data_columns != 'Strength']] \n",
    "    target = concrete_data['Strength'] \n",
    "\n",
    "    n_cols = predictors.columns.size\n",
    "\n",
    "    (train_predictors, test_predictors, train_target, test_target) = ms.train_test_split(predictors, target, test_size=0.3)\n",
    "    \n",
    "    model = regression_model(n_cols)\n",
    "    model.fit(train_predictors, train_target, epochs=50, verbose=2)\n",
    "\n",
    "    # calculate the mean_squared_error (MSE) on the test data\n",
    "    return skl.metrics.mean_squared_error(test_target, model.predict(test_predictors))"
   ]
  },
  {
   "cell_type": "code",
   "execution_count": null,
   "id": "f8578fbd",
   "metadata": {},
   "outputs": [],
   "source": [
    "def run(idx):\n",
    "    print(f\"iteration {idx}\")\n",
    "    return stlitTrainPredictAndReturnMSE()\n",
    "\n",
    "MSEs = list(map(run, range(50)))"
   ]
  },
  {
   "cell_type": "code",
   "execution_count": null,
   "id": "c4934fa0",
   "metadata": {},
   "outputs": [],
   "source": [
    "print(f\"MSEs: {MSEs}\")\n",
    "print(f\"average mean squared error is {np.mean(MSEs)}\")\n",
    "print(f\"deviation of the mean squared error is {np.std(MSEs)}\")"
   ]
  }
 ],
 "metadata": {
  "kernelspec": {
   "display_name": "Python 3 (ipykernel)",
   "language": "python",
   "name": "python3"
  },
  "language_info": {
   "codemirror_mode": {
    "name": "ipython",
    "version": 3
   },
   "file_extension": ".py",
   "mimetype": "text/x-python",
   "name": "python",
   "nbconvert_exporter": "python",
   "pygments_lexer": "ipython3",
   "version": "3.11.4"
  }
 },
 "nbformat": 4,
 "nbformat_minor": 5
}
