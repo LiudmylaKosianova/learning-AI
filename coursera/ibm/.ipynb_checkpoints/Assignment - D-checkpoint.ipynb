{
 "cells": [
  {
   "cell_type": "markdown",
   "id": "6e81eced",
   "metadata": {},
   "source": [
    "# D. Increase the number of hidden layers\n",
    "\n",
    "Repeat part B but using a neural network."
   ]
  },
  {
   "cell_type": "code",
   "execution_count": 3,
   "id": "77d8aac2-f34c-44b0-afdc-921b335885c6",
   "metadata": {},
   "outputs": [],
   "source": [
    "import pandas as pd\n",
    "import numpy as np\n",
    "import sklearn as skl\n",
    "import sklearn.model_selection as ms\n",
    "from keras.models import Sequential\n",
    "from keras.layers import Dense"
   ]
  },
  {
   "cell_type": "code",
   "execution_count": 4,
   "id": "5dbf13a9",
   "metadata": {},
   "outputs": [],
   "source": [
    "concrete_data = pd.read_csv('https://s3-api.us-geo.objectstorage.softlayer.net/cf-courses-data/CognitiveClass/DL0101EN/labs/data/concrete_data.csv')"
   ]
  },
  {
   "cell_type": "code",
   "execution_count": 5,
   "id": "3de09097",
   "metadata": {},
   "outputs": [],
   "source": [
    "def regression_model(n_cols):\n",
    "    model = Sequential()\n",
    "    model.add(Dense(10, activation='relu', input_shape=(n_cols,)))\n",
    "    model.add(Dense(10, activation='relu'))\n",
    "    model.add(Dense(10, activation='relu'))\n",
    "    model.add(Dense(1))\n",
    "    model.compile(optimizer='adam', loss='mean_squared_error')\n",
    "    return model"
   ]
  },
  {
   "cell_type": "code",
   "execution_count": 6,
   "id": "f9d8e563",
   "metadata": {},
   "outputs": [],
   "source": [
    "def stlitTrainPredictAndReturnMSE():\n",
    "    concrete_data_columns = concrete_data.columns\n",
    "    \n",
    "    predictors = concrete_data[concrete_data_columns[concrete_data_columns != 'Strength']] \n",
    "    predictors_norm = (predictors - predictors.mean()) / predictors.std()\n",
    "    target = concrete_data['Strength'] \n",
    "\n",
    "    n_cols = predictors.columns.size\n",
    "\n",
    "    (train_predictors, test_predictors, train_target, test_target) = ms.train_test_split(predictors_norm, target, test_size=0.3)\n",
    "    \n",
    "    model = regression_model(n_cols)\n",
    "    model.fit(train_predictors, train_target, epochs=50, verbose=0)\n",
    "\n",
    "    # calculate the mean_squared_error (MSE) on the test data\n",
    "    return skl.metrics.mean_squared_error(test_target, model.predict(test_predictors))\n",
    "    "
   ]
  },
  {
   "cell_type": "code",
   "execution_count": null,
   "id": "ab5b0016",
   "metadata": {},
   "outputs": [],
   "source": [
    "def run(idx):\n",
    "    print(f\"iteration {idx}\")\n",
    "    return stlitTrainPredictAndReturnMSE()\n",
    "\n",
    "MSEs = list(map(run, range(50)))"
   ]
  },
  {
   "cell_type": "code",
   "execution_count": null,
   "id": "33cc1f10",
   "metadata": {},
   "outputs": [],
   "source": [
    "print(f\"MSEs: {MSEs}\")\n",
    "print(f\"average mean squared error is {np.mean(MSEs)}\")\n",
    "print(f\"deviation of the mean squared error is {np.std(MSEs)}\")"
   ]
  },
  {
   "cell_type": "code",
   "execution_count": null,
   "id": "63704f7c",
   "metadata": {},
   "outputs": [],
   "source": [
    "print(f\"Increase in the number of layers improve stability of the model even more.\")\n",
    "print(f\"Model learned faster.\")"
   ]
  }
 ],
 "metadata": {
  "kernelspec": {
   "display_name": "Python 3 (ipykernel)",
   "language": "python",
   "name": "python3"
  },
  "language_info": {
   "codemirror_mode": {
    "name": "ipython",
    "version": 3
   },
   "file_extension": ".py",
   "mimetype": "text/x-python",
   "name": "python",
   "nbconvert_exporter": "python",
   "pygments_lexer": "ipython3",
   "version": "3.11.4"
  }
 },
 "nbformat": 4,
 "nbformat_minor": 5
}
